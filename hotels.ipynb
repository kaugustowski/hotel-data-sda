{
 "cells": [
  {
   "cell_type": "code",
   "execution_count": 49,
   "metadata": {
    "collapsed": true
   },
   "outputs": [],
   "source": [
    "import pandas as pd\n",
    "import numpy as np\n",
    "import seaborn as sns\n",
    "import matplotlib.pyplot as plt"
   ]
  },
  {
   "cell_type": "code",
   "execution_count": 50,
   "outputs": [
    {
     "name": "stdout",
     "output_type": "stream",
     "text": [
      "<class 'pandas.core.frame.DataFrame'>\n",
      "RangeIndex: 119390 entries, 0 to 119389\n",
      "Data columns (total 32 columns):\n",
      " #   Column                          Non-Null Count   Dtype  \n",
      "---  ------                          --------------   -----  \n",
      " 0   hotel                           119390 non-null  object \n",
      " 1   is_canceled                     119390 non-null  int64  \n",
      " 2   lead_time                       119390 non-null  int64  \n",
      " 3   arrival_date_year               119390 non-null  int64  \n",
      " 4   arrival_date_month              119390 non-null  object \n",
      " 5   arrival_date_week_number        119390 non-null  int64  \n",
      " 6   arrival_date_day_of_month       119390 non-null  int64  \n",
      " 7   stays_in_weekend_nights         119390 non-null  int64  \n",
      " 8   stays_in_week_nights            119390 non-null  int64  \n",
      " 9   adults                          119390 non-null  int64  \n",
      " 10  children                        119386 non-null  float64\n",
      " 11  babies                          119390 non-null  int64  \n",
      " 12  meal                            119390 non-null  object \n",
      " 13  country                         118902 non-null  object \n",
      " 14  market_segment                  119390 non-null  object \n",
      " 15  distribution_channel            119390 non-null  object \n",
      " 16  is_repeated_guest               119390 non-null  int64  \n",
      " 17  previous_cancellations          119390 non-null  int64  \n",
      " 18  previous_bookings_not_canceled  119390 non-null  int64  \n",
      " 19  reserved_room_type              119390 non-null  object \n",
      " 20  assigned_room_type              119390 non-null  object \n",
      " 21  booking_changes                 119390 non-null  int64  \n",
      " 22  deposit_type                    119390 non-null  object \n",
      " 23  agent                           103050 non-null  float64\n",
      " 24  company                         6797 non-null    float64\n",
      " 25  days_in_waiting_list            119390 non-null  int64  \n",
      " 26  customer_type                   119390 non-null  object \n",
      " 27  adr                             119390 non-null  float64\n",
      " 28  required_car_parking_spaces     119390 non-null  int64  \n",
      " 29  total_of_special_requests       119390 non-null  int64  \n",
      " 30  reservation_status              119390 non-null  object \n",
      " 31  reservation_status_date         119390 non-null  object \n",
      "dtypes: float64(4), int64(16), object(12)\n",
      "memory usage: 29.1+ MB\n"
     ]
    }
   ],
   "source": [
    "hotel_df = pd.read_csv('hotel_bookings.csv')\n",
    "hotel_df.info()"
   ],
   "metadata": {
    "collapsed": false,
    "pycharm": {
     "name": "#%%\n"
    }
   }
  },
  {
   "cell_type": "markdown",
   "source": [
    "Zmniejszenie wymiarowości datasetu, odrzucenie danych, które nie będą poddawane analizie"
   ],
   "metadata": {
    "collapsed": false
   }
  },
  {
   "cell_type": "code",
   "execution_count": 51,
   "outputs": [
    {
     "name": "stdout",
     "output_type": "stream",
     "text": [
      "<class 'pandas.core.frame.DataFrame'>\n",
      "RangeIndex: 119390 entries, 0 to 119389\n",
      "Data columns (total 22 columns):\n",
      " #   Column                     Non-Null Count   Dtype  \n",
      "---  ------                     --------------   -----  \n",
      " 0   hotel                      119390 non-null  object \n",
      " 1   is_canceled                119390 non-null  int64  \n",
      " 2   lead_time                  119390 non-null  int64  \n",
      " 3   arrival_date_year          119390 non-null  int64  \n",
      " 4   arrival_date_month         119390 non-null  object \n",
      " 5   arrival_date_week_number   119390 non-null  int64  \n",
      " 6   arrival_date_day_of_month  119390 non-null  int64  \n",
      " 7   stays_in_weekend_nights    119390 non-null  int64  \n",
      " 8   stays_in_week_nights       119390 non-null  int64  \n",
      " 9   adults                     119390 non-null  int64  \n",
      " 10  children                   119386 non-null  float64\n",
      " 11  babies                     119390 non-null  int64  \n",
      " 12  meal                       119390 non-null  object \n",
      " 13  market_segment             119390 non-null  object \n",
      " 14  distribution_channel       119390 non-null  object \n",
      " 15  is_repeated_guest          119390 non-null  int64  \n",
      " 16  reserved_room_type         119390 non-null  object \n",
      " 17  assigned_room_type         119390 non-null  object \n",
      " 18  company                    6797 non-null    float64\n",
      " 19  customer_type              119390 non-null  object \n",
      " 20  adr                        119390 non-null  float64\n",
      " 21  reservation_status         119390 non-null  object \n",
      "dtypes: float64(3), int64(10), object(9)\n",
      "memory usage: 20.0+ MB\n"
     ]
    }
   ],
   "source": [
    "columns_to_drop = ['deposit_type','previous_bookings_not_canceled','previous_cancellations','agent','country', 'required_car_parking_spaces', 'total_of_special_requests', 'days_in_waiting_list', 'deposit_type', 'reservation_status_date','booking_changes']\n",
    "hotel_df=hotel_df.drop(columns_to_drop, axis=1)\n",
    "hotel_df.info()"
   ],
   "metadata": {
    "collapsed": false,
    "pycharm": {
     "name": "#%%\n"
    }
   }
  },
  {
   "cell_type": "markdown",
   "source": [
    "Liczba rezerwacji według typu hotelu"
   ],
   "metadata": {
    "collapsed": false
   }
  },
  {
   "cell_type": "code",
   "execution_count": 52,
   "outputs": [
    {
     "data": {
      "text/plain": "Text(0, 0.5, 'Count')"
     },
     "execution_count": 52,
     "metadata": {},
     "output_type": "execute_result"
    },
    {
     "data": {
      "text/plain": "<Figure size 720x720 with 1 Axes>",
      "image/png": "[encoded data removed]"
     },
     "metadata": {
      "needs_background": "light"
     },
     "output_type": "display_data"
    }
   ],
   "source": [
    "plt.figure(figsize=(10,10))\n",
    "sns.countplot(x='hotel', data = hotel_df, palette='gist_earth')\n",
    "plt.title('Hotel Types', weight='bold')\n",
    "plt.xlabel('Hotel', fontsize=12)\n",
    "plt.ylabel('Count', fontsize=12)"
   ],
   "metadata": {
    "collapsed": false,
    "pycharm": {
     "name": "#%%\n"
    }
   }
  },
  {
   "cell_type": "code",
   "execution_count": 53,
   "outputs": [
    {
     "data": {
      "text/plain": "Text(0, 0.5, 'Count')"
     },
     "execution_count": 53,
     "metadata": {},
     "output_type": "execute_result"
    },
    {
     "data": {
      "text/plain": "<Figure size 720x720 with 1 Axes>",
      "image/png": "[encoded data removed]"
     },
     "metadata": {
      "needs_background": "light"
     },
     "output_type": "display_data"
    }
   ],
   "source": [
    "hotel_df['is_canceled'].unique()\n",
    "plt.figure(figsize=(10,10))\n",
    "sns.countplot(x='is_canceled', data = hotel_df, palette='gist_earth')\n",
    "plt.title('Cancelled', weight='bold')\n",
    "plt.xlabel('Cancelled', fontsize=12)\n",
    "plt.ylabel('Count', fontsize=12)"
   ],
   "metadata": {
    "collapsed": false,
    "pycharm": {
     "name": "#%%\n"
    }
   }
  },
  {
   "cell_type": "code",
   "execution_count": 53,
   "outputs": [],
   "source": [],
   "metadata": {
    "collapsed": false,
    "pycharm": {
     "name": "#%%\n"
    }
   }
  },
  {
   "cell_type": "code",
   "execution_count": null,
   "outputs": [],
   "source": [
    "sns.countplot(data=hotel_df,\n",
    "             x='arrival_date_year', hue='hotel')\n",
    "plt.title('Reservations per year', weight='bold')\n",
    "plt.xlabel('Year', fontsize=12)\n",
    "plt.ylabel('Number of reservations', fontsize=12)\n",
    "plt.show()\n",
    "\n",
    "sns.countplot(data=hotel_df,\n",
    "              x='arrival_date_month', hue='hotel')\n",
    "plt.title('Reservations per month', weight='bold')\n",
    "plt.xlabel('Month', fontsize=12)\n",
    "plt.ylabel('Number of reservations', fontsize=12)\n",
    "plt.xticks(rotation=60)\n",
    "plt.show()\n",
    "\n",
    "# sns.countplot(data=hotel_df,\n",
    "#               x='adr', hue='hotel')\n",
    "# plt.title('ADR', weight='bold')\n",
    "# plt.xlabel('ADR', fontsize=12)\n",
    "# plt.ylabel('Number of reservations', fontsize=12)\n",
    "# plt.show()"
   ],
   "metadata": {
    "collapsed": false,
    "pycharm": {
     "name": "#%%\n",
     "is_executing": true
    }
   }
  },
  {
   "cell_type": "markdown",
   "source": [],
   "metadata": {
    "collapsed": false
   }
  },
  {
   "cell_type": "code",
   "execution_count": null,
   "outputs": [],
   "source": [
    "plt.figure(figsize=(10,10))\n",
    "sns.countplot(x='reservation_status', data = hotel_df, palette='gist_earth')\n",
    "plt.title('Reservations', weight='bold')\n",
    "plt.xlabel('Reservation Status', fontsize=12)\n",
    "plt.ylabel('Count', fontsize=12)"
   ],
   "metadata": {
    "collapsed": false,
    "pycharm": {
     "name": "#%%\n",
     "is_executing": true
    }
   }
  },
  {
   "cell_type": "markdown",
   "source": [
    "Podstawowe statystyki opisowe danych liczbowych"
   ],
   "metadata": {
    "collapsed": false
   }
  },
  {
   "cell_type": "code",
   "execution_count": null,
   "outputs": [],
   "source": [
    "hotel_df[['adr', 'adults', 'stays_in_week_nights', 'stays_in_weekend_nights', 'lead_time']].describe()"
   ],
   "metadata": {
    "collapsed": false,
    "pycharm": {
     "name": "#%%\n",
     "is_executing": true
    }
   }
  },
  {
   "cell_type": "code",
   "execution_count": null,
   "outputs": [],
   "source": [
    "hotel_df['market_segment'].unique()\n",
    "\n"
   ],
   "metadata": {
    "collapsed": false,
    "pycharm": {
     "name": "#%%\n",
     "is_executing": true
    }
   }
  },
  {
   "cell_type": "code",
   "execution_count": null,
   "outputs": [],
   "source": [
    "hotel_df['agent'].unique()"
   ],
   "metadata": {
    "collapsed": false,
    "pycharm": {
     "name": "#%%\n",
     "is_executing": true
    }
   }
  },
  {
   "cell_type": "code",
   "execution_count": null,
   "outputs": [],
   "source": [
    "hotel_df['deposit_type'].unique()"
   ],
   "metadata": {
    "collapsed": false,
    "pycharm": {
     "name": "#%%\n",
     "is_executing": true
    }
   }
  }
 ],
 "metadata": {
  "kernelspec": {
   "display_name": "Python 3",
   "language": "python",
   "name": "python3"
  },
  "language_info": {
   "codemirror_mode": {
    "name": "ipython",
    "version": 2
   },
   "file_extension": ".py",
   "mimetype": "text/x-python",
   "name": "python",
   "nbconvert_exporter": "python",
   "pygments_lexer": "ipython2",
   "version": "2.7.6"
  }
 },
 "nbformat": 4,
 "nbformat_minor": 0
}